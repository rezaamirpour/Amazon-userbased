{
 "cells": [
  {
   "cell_type": "markdown",
   "metadata": {
    "collapsed": true
   },
   "source": [
    "# Project Building user-based recommendation model for Amazon\n",
    "\n",
    "* Reza Amirpour\n",
    "\n",
    "* * *"
   ]
  },
  {
   "cell_type": "markdown",
   "metadata": {},
   "source": [
    "#### 1: Load the data"
   ]
  },
  {
   "cell_type": "code",
   "execution_count": 1,
   "metadata": {},
   "outputs": [],
   "source": [
    "import numpy as np\n",
    "import pandas as pd\n",
    "#from sklearn.preprocessing import LabelEncoder,StandardScaler"
   ]
  },
  {
   "cell_type": "code",
   "execution_count": 2,
   "metadata": {},
   "outputs": [],
   "source": [
    "data = pd.read_csv(\"Amazon - Movies and TV Ratings.csv\")"
   ]
  },
  {
   "cell_type": "code",
   "execution_count": 3,
   "metadata": {},
   "outputs": [
    {
     "data": {
      "text/html": [
       "<div>\n",
       "<style scoped>\n",
       "    .dataframe tbody tr th:only-of-type {\n",
       "        vertical-align: middle;\n",
       "    }\n",
       "\n",
       "    .dataframe tbody tr th {\n",
       "        vertical-align: top;\n",
       "    }\n",
       "\n",
       "    .dataframe thead th {\n",
       "        text-align: right;\n",
       "    }\n",
       "</style>\n",
       "<table border=\"1\" class=\"dataframe\">\n",
       "  <thead>\n",
       "    <tr style=\"text-align: right;\">\n",
       "      <th></th>\n",
       "      <th>user_id</th>\n",
       "      <th>Movie1</th>\n",
       "      <th>Movie2</th>\n",
       "      <th>Movie3</th>\n",
       "      <th>Movie4</th>\n",
       "      <th>Movie5</th>\n",
       "      <th>Movie6</th>\n",
       "      <th>Movie7</th>\n",
       "      <th>Movie8</th>\n",
       "      <th>Movie9</th>\n",
       "      <th>...</th>\n",
       "      <th>Movie197</th>\n",
       "      <th>Movie198</th>\n",
       "      <th>Movie199</th>\n",
       "      <th>Movie200</th>\n",
       "      <th>Movie201</th>\n",
       "      <th>Movie202</th>\n",
       "      <th>Movie203</th>\n",
       "      <th>Movie204</th>\n",
       "      <th>Movie205</th>\n",
       "      <th>Movie206</th>\n",
       "    </tr>\n",
       "  </thead>\n",
       "  <tbody>\n",
       "    <tr>\n",
       "      <th>0</th>\n",
       "      <td>A3R5OBKS7OM2IR</td>\n",
       "      <td>5.0</td>\n",
       "      <td>5.0</td>\n",
       "      <td>NaN</td>\n",
       "      <td>NaN</td>\n",
       "      <td>NaN</td>\n",
       "      <td>NaN</td>\n",
       "      <td>NaN</td>\n",
       "      <td>NaN</td>\n",
       "      <td>NaN</td>\n",
       "      <td>...</td>\n",
       "      <td>NaN</td>\n",
       "      <td>NaN</td>\n",
       "      <td>NaN</td>\n",
       "      <td>NaN</td>\n",
       "      <td>NaN</td>\n",
       "      <td>NaN</td>\n",
       "      <td>NaN</td>\n",
       "      <td>NaN</td>\n",
       "      <td>NaN</td>\n",
       "      <td>NaN</td>\n",
       "    </tr>\n",
       "    <tr>\n",
       "      <th>1</th>\n",
       "      <td>AH3QC2PC1VTGP</td>\n",
       "      <td>NaN</td>\n",
       "      <td>NaN</td>\n",
       "      <td>2.0</td>\n",
       "      <td>NaN</td>\n",
       "      <td>NaN</td>\n",
       "      <td>NaN</td>\n",
       "      <td>NaN</td>\n",
       "      <td>NaN</td>\n",
       "      <td>NaN</td>\n",
       "      <td>...</td>\n",
       "      <td>NaN</td>\n",
       "      <td>NaN</td>\n",
       "      <td>NaN</td>\n",
       "      <td>NaN</td>\n",
       "      <td>NaN</td>\n",
       "      <td>NaN</td>\n",
       "      <td>NaN</td>\n",
       "      <td>NaN</td>\n",
       "      <td>NaN</td>\n",
       "      <td>NaN</td>\n",
       "    </tr>\n",
       "    <tr>\n",
       "      <th>2</th>\n",
       "      <td>A3LKP6WPMP9UKX</td>\n",
       "      <td>NaN</td>\n",
       "      <td>NaN</td>\n",
       "      <td>NaN</td>\n",
       "      <td>5.0</td>\n",
       "      <td>NaN</td>\n",
       "      <td>NaN</td>\n",
       "      <td>NaN</td>\n",
       "      <td>NaN</td>\n",
       "      <td>NaN</td>\n",
       "      <td>...</td>\n",
       "      <td>NaN</td>\n",
       "      <td>NaN</td>\n",
       "      <td>NaN</td>\n",
       "      <td>NaN</td>\n",
       "      <td>NaN</td>\n",
       "      <td>NaN</td>\n",
       "      <td>NaN</td>\n",
       "      <td>NaN</td>\n",
       "      <td>NaN</td>\n",
       "      <td>NaN</td>\n",
       "    </tr>\n",
       "    <tr>\n",
       "      <th>3</th>\n",
       "      <td>AVIY68KEPQ5ZD</td>\n",
       "      <td>NaN</td>\n",
       "      <td>NaN</td>\n",
       "      <td>NaN</td>\n",
       "      <td>5.0</td>\n",
       "      <td>NaN</td>\n",
       "      <td>NaN</td>\n",
       "      <td>NaN</td>\n",
       "      <td>NaN</td>\n",
       "      <td>NaN</td>\n",
       "      <td>...</td>\n",
       "      <td>NaN</td>\n",
       "      <td>NaN</td>\n",
       "      <td>NaN</td>\n",
       "      <td>NaN</td>\n",
       "      <td>NaN</td>\n",
       "      <td>NaN</td>\n",
       "      <td>NaN</td>\n",
       "      <td>NaN</td>\n",
       "      <td>NaN</td>\n",
       "      <td>NaN</td>\n",
       "    </tr>\n",
       "    <tr>\n",
       "      <th>4</th>\n",
       "      <td>A1CV1WROP5KTTW</td>\n",
       "      <td>NaN</td>\n",
       "      <td>NaN</td>\n",
       "      <td>NaN</td>\n",
       "      <td>NaN</td>\n",
       "      <td>5.0</td>\n",
       "      <td>NaN</td>\n",
       "      <td>NaN</td>\n",
       "      <td>NaN</td>\n",
       "      <td>NaN</td>\n",
       "      <td>...</td>\n",
       "      <td>NaN</td>\n",
       "      <td>NaN</td>\n",
       "      <td>NaN</td>\n",
       "      <td>NaN</td>\n",
       "      <td>NaN</td>\n",
       "      <td>NaN</td>\n",
       "      <td>NaN</td>\n",
       "      <td>NaN</td>\n",
       "      <td>NaN</td>\n",
       "      <td>NaN</td>\n",
       "    </tr>\n",
       "  </tbody>\n",
       "</table>\n",
       "<p>5 rows × 207 columns</p>\n",
       "</div>"
      ],
      "text/plain": [
       "          user_id  Movie1  Movie2  Movie3  Movie4  Movie5  Movie6  Movie7  \\\n",
       "0  A3R5OBKS7OM2IR     5.0     5.0     NaN     NaN     NaN     NaN     NaN   \n",
       "1   AH3QC2PC1VTGP     NaN     NaN     2.0     NaN     NaN     NaN     NaN   \n",
       "2  A3LKP6WPMP9UKX     NaN     NaN     NaN     5.0     NaN     NaN     NaN   \n",
       "3   AVIY68KEPQ5ZD     NaN     NaN     NaN     5.0     NaN     NaN     NaN   \n",
       "4  A1CV1WROP5KTTW     NaN     NaN     NaN     NaN     5.0     NaN     NaN   \n",
       "\n",
       "   Movie8  Movie9  ...  Movie197  Movie198  Movie199  Movie200  Movie201  \\\n",
       "0     NaN     NaN  ...       NaN       NaN       NaN       NaN       NaN   \n",
       "1     NaN     NaN  ...       NaN       NaN       NaN       NaN       NaN   \n",
       "2     NaN     NaN  ...       NaN       NaN       NaN       NaN       NaN   \n",
       "3     NaN     NaN  ...       NaN       NaN       NaN       NaN       NaN   \n",
       "4     NaN     NaN  ...       NaN       NaN       NaN       NaN       NaN   \n",
       "\n",
       "   Movie202  Movie203  Movie204  Movie205  Movie206  \n",
       "0       NaN       NaN       NaN       NaN       NaN  \n",
       "1       NaN       NaN       NaN       NaN       NaN  \n",
       "2       NaN       NaN       NaN       NaN       NaN  \n",
       "3       NaN       NaN       NaN       NaN       NaN  \n",
       "4       NaN       NaN       NaN       NaN       NaN  \n",
       "\n",
       "[5 rows x 207 columns]"
      ]
     },
     "execution_count": 3,
     "metadata": {},
     "output_type": "execute_result"
    }
   ],
   "source": [
    "data.head()"
   ]
  },
  {
   "cell_type": "code",
   "execution_count": 4,
   "metadata": {},
   "outputs": [
    {
     "data": {
      "text/plain": [
       "user_id        0\n",
       "Movie1      4847\n",
       "Movie2      4847\n",
       "Movie3      4847\n",
       "Movie4      4846\n",
       "            ... \n",
       "Movie202    4842\n",
       "Movie203    4847\n",
       "Movie204    4840\n",
       "Movie205    4813\n",
       "Movie206    4835\n",
       "Length: 207, dtype: int64"
      ]
     },
     "execution_count": 4,
     "metadata": {},
     "output_type": "execute_result"
    }
   ],
   "source": [
    "data.isnull().sum()"
   ]
  },
  {
   "cell_type": "code",
   "execution_count": 5,
   "metadata": {},
   "outputs": [],
   "source": [
    "data = pd.DataFrame(data)\n",
    "data2 = data.copy()"
   ]
  },
  {
   "cell_type": "code",
   "execution_count": 6,
   "metadata": {},
   "outputs": [
    {
     "name": "stdout",
     "output_type": "stream",
     "text": [
      "<class 'pandas.core.frame.DataFrame'>\n",
      "RangeIndex: 4848 entries, 0 to 4847\n",
      "Columns: 207 entries, user_id to Movie206\n",
      "dtypes: float64(206), object(1)\n",
      "memory usage: 7.7+ MB\n"
     ]
    }
   ],
   "source": [
    "data.info()"
   ]
  },
  {
   "cell_type": "code",
   "execution_count": 7,
   "metadata": {},
   "outputs": [
    {
     "data": {
      "text/plain": [
       "(4848, 207)"
      ]
     },
     "execution_count": 7,
     "metadata": {},
     "output_type": "execute_result"
    }
   ],
   "source": [
    "data.shape"
   ]
  },
  {
   "cell_type": "code",
   "execution_count": 8,
   "metadata": {},
   "outputs": [
    {
     "data": {
      "text/plain": [
       "0"
      ]
     },
     "execution_count": 8,
     "metadata": {},
     "output_type": "execute_result"
    }
   ],
   "source": [
    "data['user_id'].isna().sum()"
   ]
  },
  {
   "cell_type": "code",
   "execution_count": 9,
   "metadata": {},
   "outputs": [
    {
     "data": {
      "text/plain": [
       "user_id        0\n",
       "Movie1      4847\n",
       "Movie2      4847\n",
       "Movie3      4847\n",
       "Movie4      4846\n",
       "            ... \n",
       "Movie202    4842\n",
       "Movie203    4847\n",
       "Movie204    4840\n",
       "Movie205    4813\n",
       "Movie206    4835\n",
       "Length: 207, dtype: int64"
      ]
     },
     "execution_count": 9,
     "metadata": {},
     "output_type": "execute_result"
    }
   ],
   "source": [
    "data.isnull().sum()"
   ]
  },
  {
   "cell_type": "code",
   "execution_count": 10,
   "metadata": {},
   "outputs": [
    {
     "data": {
      "text/html": [
       "<div>\n",
       "<style scoped>\n",
       "    .dataframe tbody tr th:only-of-type {\n",
       "        vertical-align: middle;\n",
       "    }\n",
       "\n",
       "    .dataframe tbody tr th {\n",
       "        vertical-align: top;\n",
       "    }\n",
       "\n",
       "    .dataframe thead th {\n",
       "        text-align: right;\n",
       "    }\n",
       "</style>\n",
       "<table border=\"1\" class=\"dataframe\">\n",
       "  <thead>\n",
       "    <tr style=\"text-align: right;\">\n",
       "      <th></th>\n",
       "      <th>0</th>\n",
       "      <th>1</th>\n",
       "      <th>2</th>\n",
       "      <th>3</th>\n",
       "      <th>4</th>\n",
       "      <th>5</th>\n",
       "      <th>6</th>\n",
       "      <th>7</th>\n",
       "      <th>8</th>\n",
       "      <th>9</th>\n",
       "      <th>...</th>\n",
       "      <th>4838</th>\n",
       "      <th>4839</th>\n",
       "      <th>4840</th>\n",
       "      <th>4841</th>\n",
       "      <th>4842</th>\n",
       "      <th>4843</th>\n",
       "      <th>4844</th>\n",
       "      <th>4845</th>\n",
       "      <th>4846</th>\n",
       "      <th>4847</th>\n",
       "    </tr>\n",
       "  </thead>\n",
       "  <tbody>\n",
       "    <tr>\n",
       "      <th>user_id</th>\n",
       "      <td>A3R5OBKS7OM2IR</td>\n",
       "      <td>AH3QC2PC1VTGP</td>\n",
       "      <td>A3LKP6WPMP9UKX</td>\n",
       "      <td>AVIY68KEPQ5ZD</td>\n",
       "      <td>A1CV1WROP5KTTW</td>\n",
       "      <td>AP57WZ2X4G0AA</td>\n",
       "      <td>A3NMBJ2LCRCATT</td>\n",
       "      <td>A5Y15SAOMX6XA</td>\n",
       "      <td>A3P671HJ32TCSF</td>\n",
       "      <td>A3VCKTRD24BG7K</td>\n",
       "      <td>...</td>\n",
       "      <td>A31KDG42LDKA68</td>\n",
       "      <td>A1ZW2GF8QLTG62</td>\n",
       "      <td>A15W9FRLBUXJNS</td>\n",
       "      <td>AQ4JA4RFC5QHI</td>\n",
       "      <td>A1HY5DOJCVB8MG</td>\n",
       "      <td>A1IMQ9WMFYKWH5</td>\n",
       "      <td>A1KLIKPUF5E88I</td>\n",
       "      <td>A5HG6WFZLO10D</td>\n",
       "      <td>A3UU690TWXCG1X</td>\n",
       "      <td>AI4J762YI6S06</td>\n",
       "    </tr>\n",
       "    <tr>\n",
       "      <th>Movie1</th>\n",
       "      <td>5.0</td>\n",
       "      <td>NaN</td>\n",
       "      <td>NaN</td>\n",
       "      <td>NaN</td>\n",
       "      <td>NaN</td>\n",
       "      <td>NaN</td>\n",
       "      <td>NaN</td>\n",
       "      <td>NaN</td>\n",
       "      <td>NaN</td>\n",
       "      <td>NaN</td>\n",
       "      <td>...</td>\n",
       "      <td>NaN</td>\n",
       "      <td>NaN</td>\n",
       "      <td>NaN</td>\n",
       "      <td>NaN</td>\n",
       "      <td>NaN</td>\n",
       "      <td>NaN</td>\n",
       "      <td>NaN</td>\n",
       "      <td>NaN</td>\n",
       "      <td>NaN</td>\n",
       "      <td>NaN</td>\n",
       "    </tr>\n",
       "    <tr>\n",
       "      <th>Movie2</th>\n",
       "      <td>5.0</td>\n",
       "      <td>NaN</td>\n",
       "      <td>NaN</td>\n",
       "      <td>NaN</td>\n",
       "      <td>NaN</td>\n",
       "      <td>NaN</td>\n",
       "      <td>NaN</td>\n",
       "      <td>NaN</td>\n",
       "      <td>NaN</td>\n",
       "      <td>NaN</td>\n",
       "      <td>...</td>\n",
       "      <td>NaN</td>\n",
       "      <td>NaN</td>\n",
       "      <td>NaN</td>\n",
       "      <td>NaN</td>\n",
       "      <td>NaN</td>\n",
       "      <td>NaN</td>\n",
       "      <td>NaN</td>\n",
       "      <td>NaN</td>\n",
       "      <td>NaN</td>\n",
       "      <td>NaN</td>\n",
       "    </tr>\n",
       "    <tr>\n",
       "      <th>Movie3</th>\n",
       "      <td>NaN</td>\n",
       "      <td>2.0</td>\n",
       "      <td>NaN</td>\n",
       "      <td>NaN</td>\n",
       "      <td>NaN</td>\n",
       "      <td>NaN</td>\n",
       "      <td>NaN</td>\n",
       "      <td>NaN</td>\n",
       "      <td>NaN</td>\n",
       "      <td>NaN</td>\n",
       "      <td>...</td>\n",
       "      <td>NaN</td>\n",
       "      <td>NaN</td>\n",
       "      <td>NaN</td>\n",
       "      <td>NaN</td>\n",
       "      <td>NaN</td>\n",
       "      <td>NaN</td>\n",
       "      <td>NaN</td>\n",
       "      <td>NaN</td>\n",
       "      <td>NaN</td>\n",
       "      <td>NaN</td>\n",
       "    </tr>\n",
       "    <tr>\n",
       "      <th>Movie4</th>\n",
       "      <td>NaN</td>\n",
       "      <td>NaN</td>\n",
       "      <td>5.0</td>\n",
       "      <td>5.0</td>\n",
       "      <td>NaN</td>\n",
       "      <td>NaN</td>\n",
       "      <td>NaN</td>\n",
       "      <td>NaN</td>\n",
       "      <td>NaN</td>\n",
       "      <td>NaN</td>\n",
       "      <td>...</td>\n",
       "      <td>NaN</td>\n",
       "      <td>NaN</td>\n",
       "      <td>NaN</td>\n",
       "      <td>NaN</td>\n",
       "      <td>NaN</td>\n",
       "      <td>NaN</td>\n",
       "      <td>NaN</td>\n",
       "      <td>NaN</td>\n",
       "      <td>NaN</td>\n",
       "      <td>NaN</td>\n",
       "    </tr>\n",
       "  </tbody>\n",
       "</table>\n",
       "<p>5 rows × 4848 columns</p>\n",
       "</div>"
      ],
      "text/plain": [
       "                   0              1               2              3     \\\n",
       "user_id  A3R5OBKS7OM2IR  AH3QC2PC1VTGP  A3LKP6WPMP9UKX  AVIY68KEPQ5ZD   \n",
       "Movie1              5.0            NaN             NaN            NaN   \n",
       "Movie2              5.0            NaN             NaN            NaN   \n",
       "Movie3              NaN            2.0             NaN            NaN   \n",
       "Movie4              NaN            NaN             5.0            5.0   \n",
       "\n",
       "                   4              5               6              7     \\\n",
       "user_id  A1CV1WROP5KTTW  AP57WZ2X4G0AA  A3NMBJ2LCRCATT  A5Y15SAOMX6XA   \n",
       "Movie1              NaN            NaN             NaN            NaN   \n",
       "Movie2              NaN            NaN             NaN            NaN   \n",
       "Movie3              NaN            NaN             NaN            NaN   \n",
       "Movie4              NaN            NaN             NaN            NaN   \n",
       "\n",
       "                   8               9     ...            4838            4839  \\\n",
       "user_id  A3P671HJ32TCSF  A3VCKTRD24BG7K  ...  A31KDG42LDKA68  A1ZW2GF8QLTG62   \n",
       "Movie1              NaN             NaN  ...             NaN             NaN   \n",
       "Movie2              NaN             NaN  ...             NaN             NaN   \n",
       "Movie3              NaN             NaN  ...             NaN             NaN   \n",
       "Movie4              NaN             NaN  ...             NaN             NaN   \n",
       "\n",
       "                   4840           4841            4842            4843  \\\n",
       "user_id  A15W9FRLBUXJNS  AQ4JA4RFC5QHI  A1HY5DOJCVB8MG  A1IMQ9WMFYKWH5   \n",
       "Movie1              NaN            NaN             NaN             NaN   \n",
       "Movie2              NaN            NaN             NaN             NaN   \n",
       "Movie3              NaN            NaN             NaN             NaN   \n",
       "Movie4              NaN            NaN             NaN             NaN   \n",
       "\n",
       "                   4844           4845            4846           4847  \n",
       "user_id  A1KLIKPUF5E88I  A5HG6WFZLO10D  A3UU690TWXCG1X  AI4J762YI6S06  \n",
       "Movie1              NaN            NaN             NaN            NaN  \n",
       "Movie2              NaN            NaN             NaN            NaN  \n",
       "Movie3              NaN            NaN             NaN            NaN  \n",
       "Movie4              NaN            NaN             NaN            NaN  \n",
       "\n",
       "[5 rows x 4848 columns]"
      ]
     },
     "execution_count": 10,
     "metadata": {},
     "output_type": "execute_result"
    }
   ],
   "source": [
    "data.T.head()"
   ]
  },
  {
   "cell_type": "code",
   "execution_count": 11,
   "metadata": {},
   "outputs": [
    {
     "data": {
      "text/plain": [
       "207"
      ]
     },
     "execution_count": 11,
     "metadata": {},
     "output_type": "execute_result"
    }
   ],
   "source": [
    "len(data.columns.unique()) #find out any duplicate movie"
   ]
  },
  {
   "cell_type": "code",
   "execution_count": 12,
   "metadata": {},
   "outputs": [
    {
     "data": {
      "text/html": [
       "<div>\n",
       "<style scoped>\n",
       "    .dataframe tbody tr th:only-of-type {\n",
       "        vertical-align: middle;\n",
       "    }\n",
       "\n",
       "    .dataframe tbody tr th {\n",
       "        vertical-align: top;\n",
       "    }\n",
       "\n",
       "    .dataframe thead th {\n",
       "        text-align: right;\n",
       "    }\n",
       "</style>\n",
       "<table border=\"1\" class=\"dataframe\">\n",
       "  <thead>\n",
       "    <tr style=\"text-align: right;\">\n",
       "      <th></th>\n",
       "      <th>count</th>\n",
       "      <th>mean</th>\n",
       "      <th>std</th>\n",
       "      <th>min</th>\n",
       "      <th>25%</th>\n",
       "      <th>50%</th>\n",
       "      <th>75%</th>\n",
       "      <th>max</th>\n",
       "    </tr>\n",
       "  </thead>\n",
       "  <tbody>\n",
       "    <tr>\n",
       "      <th>Movie1</th>\n",
       "      <td>1.0</td>\n",
       "      <td>5.000000</td>\n",
       "      <td>NaN</td>\n",
       "      <td>5.0</td>\n",
       "      <td>5.00</td>\n",
       "      <td>5.0</td>\n",
       "      <td>5.0</td>\n",
       "      <td>5.0</td>\n",
       "    </tr>\n",
       "    <tr>\n",
       "      <th>Movie2</th>\n",
       "      <td>1.0</td>\n",
       "      <td>5.000000</td>\n",
       "      <td>NaN</td>\n",
       "      <td>5.0</td>\n",
       "      <td>5.00</td>\n",
       "      <td>5.0</td>\n",
       "      <td>5.0</td>\n",
       "      <td>5.0</td>\n",
       "    </tr>\n",
       "    <tr>\n",
       "      <th>Movie3</th>\n",
       "      <td>1.0</td>\n",
       "      <td>2.000000</td>\n",
       "      <td>NaN</td>\n",
       "      <td>2.0</td>\n",
       "      <td>2.00</td>\n",
       "      <td>2.0</td>\n",
       "      <td>2.0</td>\n",
       "      <td>2.0</td>\n",
       "    </tr>\n",
       "    <tr>\n",
       "      <th>Movie4</th>\n",
       "      <td>2.0</td>\n",
       "      <td>5.000000</td>\n",
       "      <td>0.000000</td>\n",
       "      <td>5.0</td>\n",
       "      <td>5.00</td>\n",
       "      <td>5.0</td>\n",
       "      <td>5.0</td>\n",
       "      <td>5.0</td>\n",
       "    </tr>\n",
       "    <tr>\n",
       "      <th>Movie5</th>\n",
       "      <td>29.0</td>\n",
       "      <td>4.103448</td>\n",
       "      <td>1.496301</td>\n",
       "      <td>1.0</td>\n",
       "      <td>4.00</td>\n",
       "      <td>5.0</td>\n",
       "      <td>5.0</td>\n",
       "      <td>5.0</td>\n",
       "    </tr>\n",
       "    <tr>\n",
       "      <th>...</th>\n",
       "      <td>...</td>\n",
       "      <td>...</td>\n",
       "      <td>...</td>\n",
       "      <td>...</td>\n",
       "      <td>...</td>\n",
       "      <td>...</td>\n",
       "      <td>...</td>\n",
       "      <td>...</td>\n",
       "    </tr>\n",
       "    <tr>\n",
       "      <th>Movie202</th>\n",
       "      <td>6.0</td>\n",
       "      <td>4.333333</td>\n",
       "      <td>1.632993</td>\n",
       "      <td>1.0</td>\n",
       "      <td>5.00</td>\n",
       "      <td>5.0</td>\n",
       "      <td>5.0</td>\n",
       "      <td>5.0</td>\n",
       "    </tr>\n",
       "    <tr>\n",
       "      <th>Movie203</th>\n",
       "      <td>1.0</td>\n",
       "      <td>3.000000</td>\n",
       "      <td>NaN</td>\n",
       "      <td>3.0</td>\n",
       "      <td>3.00</td>\n",
       "      <td>3.0</td>\n",
       "      <td>3.0</td>\n",
       "      <td>3.0</td>\n",
       "    </tr>\n",
       "    <tr>\n",
       "      <th>Movie204</th>\n",
       "      <td>8.0</td>\n",
       "      <td>4.375000</td>\n",
       "      <td>1.407886</td>\n",
       "      <td>1.0</td>\n",
       "      <td>4.75</td>\n",
       "      <td>5.0</td>\n",
       "      <td>5.0</td>\n",
       "      <td>5.0</td>\n",
       "    </tr>\n",
       "    <tr>\n",
       "      <th>Movie205</th>\n",
       "      <td>35.0</td>\n",
       "      <td>4.628571</td>\n",
       "      <td>0.910259</td>\n",
       "      <td>1.0</td>\n",
       "      <td>5.00</td>\n",
       "      <td>5.0</td>\n",
       "      <td>5.0</td>\n",
       "      <td>5.0</td>\n",
       "    </tr>\n",
       "    <tr>\n",
       "      <th>Movie206</th>\n",
       "      <td>13.0</td>\n",
       "      <td>4.923077</td>\n",
       "      <td>0.277350</td>\n",
       "      <td>4.0</td>\n",
       "      <td>5.00</td>\n",
       "      <td>5.0</td>\n",
       "      <td>5.0</td>\n",
       "      <td>5.0</td>\n",
       "    </tr>\n",
       "  </tbody>\n",
       "</table>\n",
       "<p>206 rows × 8 columns</p>\n",
       "</div>"
      ],
      "text/plain": [
       "          count      mean       std  min   25%  50%  75%  max\n",
       "Movie1      1.0  5.000000       NaN  5.0  5.00  5.0  5.0  5.0\n",
       "Movie2      1.0  5.000000       NaN  5.0  5.00  5.0  5.0  5.0\n",
       "Movie3      1.0  2.000000       NaN  2.0  2.00  2.0  2.0  2.0\n",
       "Movie4      2.0  5.000000  0.000000  5.0  5.00  5.0  5.0  5.0\n",
       "Movie5     29.0  4.103448  1.496301  1.0  4.00  5.0  5.0  5.0\n",
       "...         ...       ...       ...  ...   ...  ...  ...  ...\n",
       "Movie202    6.0  4.333333  1.632993  1.0  5.00  5.0  5.0  5.0\n",
       "Movie203    1.0  3.000000       NaN  3.0  3.00  3.0  3.0  3.0\n",
       "Movie204    8.0  4.375000  1.407886  1.0  4.75  5.0  5.0  5.0\n",
       "Movie205   35.0  4.628571  0.910259  1.0  5.00  5.0  5.0  5.0\n",
       "Movie206   13.0  4.923077  0.277350  4.0  5.00  5.0  5.0  5.0\n",
       "\n",
       "[206 rows x 8 columns]"
      ]
     },
     "execution_count": 12,
     "metadata": {},
     "output_type": "execute_result"
    }
   ],
   "source": [
    "data.describe().T"
   ]
  },
  {
   "cell_type": "code",
   "execution_count": 13,
   "metadata": {},
   "outputs": [
    {
     "data": {
      "text/plain": [
       "<AxesSubplot:ylabel='Frequency'>"
      ]
     },
     "execution_count": 13,
     "metadata": {},
     "output_type": "execute_result"
    },
    {
     "data": {
      "image/png": "[encoded data removed]",
      "text/plain": [
       "<Figure size 432x288 with 1 Axes>"
      ]
     },
     "metadata": {
      "needs_background": "light"
     },
     "output_type": "display_data"
    }
   ],
   "source": [
    "data.describe().T['mean'].plot(kind='hist')"
   ]
  },
  {
   "cell_type": "code",
   "execution_count": 14,
   "metadata": {},
   "outputs": [
    {
     "data": {
      "text/plain": [
       "<AxesSubplot:ylabel='Frequency'>"
      ]
     },
     "execution_count": 14,
     "metadata": {},
     "output_type": "execute_result"
    },
    {
     "data": {
      "image/png": "[encoded data removed]",
      "text/plain": [
       "<Figure size 432x288 with 1 Axes>"
      ]
     },
     "metadata": {
      "needs_background": "light"
     },
     "output_type": "display_data"
    }
   ],
   "source": [
    "data.describe().T['count'].plot(kind='hist')"
   ]
  },
  {
   "cell_type": "code",
   "execution_count": 15,
   "metadata": {},
   "outputs": [
    {
     "data": {
      "text/plain": [
       "2313.0"
      ]
     },
     "execution_count": 15,
     "metadata": {},
     "output_type": "execute_result"
    }
   ],
   "source": [
    "data.describe().T['count'].max()"
   ]
  },
  {
   "cell_type": "code",
   "execution_count": 16,
   "metadata": {},
   "outputs": [
    {
     "data": {
      "text/plain": [
       "Movie127    2313.0\n",
       "Name: count, dtype: float64"
      ]
     },
     "execution_count": 16,
     "metadata": {},
     "output_type": "execute_result"
    }
   ],
   "source": [
    "data.describe().T['count'].sort_values(ascending = False)[:1]  #Max view"
   ]
  },
  {
   "cell_type": "code",
   "execution_count": 17,
   "metadata": {},
   "outputs": [
    {
     "data": {
      "text/plain": [
       "Movie127    2313.0\n",
       "Name: count, dtype: float64"
      ]
     },
     "execution_count": 17,
     "metadata": {},
     "output_type": "execute_result"
    }
   ],
   "source": [
    "data2.describe().T['count'].sort_values(ascending = False)[:1]  #Max view"
   ]
  },
  {
   "cell_type": "code",
   "execution_count": 16,
   "metadata": {},
   "outputs": [],
   "source": [
    "data.fillna(0,inplace=True, axis=0)  #replcae Null with 0 for Data "
   ]
  },
  {
   "cell_type": "code",
   "execution_count": 17,
   "metadata": {},
   "outputs": [
    {
     "data": {
      "text/plain": [
       "Movie127    9511.0\n",
       "dtype: float64"
      ]
     },
     "execution_count": 17,
     "metadata": {},
     "output_type": "execute_result"
    }
   ],
   "source": [
    "data.drop('user_id',axis=1).sum().sort_values(ascending = False)[:1]  #Max rating "
   ]
  },
  {
   "cell_type": "code",
   "execution_count": 18,
   "metadata": {},
   "outputs": [
    {
     "data": {
      "text/plain": [
       "Movie127    9511.0\n",
       "dtype: float64"
      ]
     },
     "execution_count": 18,
     "metadata": {},
     "output_type": "execute_result"
    }
   ],
   "source": [
    "data2.drop('user_id',axis=1).sum().sort_values(ascending = False)[:1]  #Max rating "
   ]
  },
  {
   "cell_type": "code",
   "execution_count": 21,
   "metadata": {},
   "outputs": [
    {
     "data": {
      "text/plain": [
       "Movie127    1.961840\n",
       "Movie140    0.576320\n",
       "Movie16     0.298267\n",
       "Movie103    0.255982\n",
       "Movie29     0.240924\n",
       "dtype: float64"
      ]
     },
     "execution_count": 21,
     "metadata": {},
     "output_type": "execute_result"
    }
   ],
   "source": [
    "data.drop('user_id',axis=1).mean().sort_values(ascending = False)[:5]   #Mean  5  top"
   ]
  },
  {
   "cell_type": "code",
   "execution_count": 105,
   "metadata": {},
   "outputs": [
    {
     "data": {
      "text/plain": [
       "Movie1     5.0\n",
       "Movie66    5.0\n",
       "Movie76    5.0\n",
       "Movie75    5.0\n",
       "Movie74    5.0\n",
       "dtype: float64"
      ]
     },
     "execution_count": 105,
     "metadata": {},
     "output_type": "execute_result"
    }
   ],
   "source": [
    "data2.drop('user_id',axis=1).mean().sort_values(ascending = False)[:5]  #"
   ]
  },
  {
   "cell_type": "code",
   "execution_count": 22,
   "metadata": {},
   "outputs": [
    {
     "data": {
      "text/plain": [
       "Movie1      1.0\n",
       "Movie71     1.0\n",
       "Movie145    1.0\n",
       "Movie69     1.0\n",
       "Movie68     1.0\n",
       "Name: count, dtype: float64"
      ]
     },
     "execution_count": 22,
     "metadata": {},
     "output_type": "execute_result"
    }
   ],
   "source": [
    "data2.describe().T['count'].sort_values(ascending = True)[:5]  #Min  audiance"
   ]
  },
  {
   "cell_type": "code",
   "execution_count": 19,
   "metadata": {},
   "outputs": [
    {
     "data": {
      "text/html": [
       "<div>\n",
       "<style scoped>\n",
       "    .dataframe tbody tr th:only-of-type {\n",
       "        vertical-align: middle;\n",
       "    }\n",
       "\n",
       "    .dataframe tbody tr th {\n",
       "        vertical-align: top;\n",
       "    }\n",
       "\n",
       "    .dataframe thead th {\n",
       "        text-align: right;\n",
       "    }\n",
       "</style>\n",
       "<table border=\"1\" class=\"dataframe\">\n",
       "  <thead>\n",
       "    <tr style=\"text-align: right;\">\n",
       "      <th>user_id</th>\n",
       "      <th>A3R5OBKS7OM2IR</th>\n",
       "      <th>AH3QC2PC1VTGP</th>\n",
       "      <th>A3LKP6WPMP9UKX</th>\n",
       "      <th>AVIY68KEPQ5ZD</th>\n",
       "      <th>A1CV1WROP5KTTW</th>\n",
       "      <th>AP57WZ2X4G0AA</th>\n",
       "      <th>A3NMBJ2LCRCATT</th>\n",
       "      <th>A5Y15SAOMX6XA</th>\n",
       "      <th>A3P671HJ32TCSF</th>\n",
       "      <th>A3VCKTRD24BG7K</th>\n",
       "      <th>...</th>\n",
       "      <th>A31KDG42LDKA68</th>\n",
       "      <th>A1ZW2GF8QLTG62</th>\n",
       "      <th>A15W9FRLBUXJNS</th>\n",
       "      <th>AQ4JA4RFC5QHI</th>\n",
       "      <th>A1HY5DOJCVB8MG</th>\n",
       "      <th>A1IMQ9WMFYKWH5</th>\n",
       "      <th>A1KLIKPUF5E88I</th>\n",
       "      <th>A5HG6WFZLO10D</th>\n",
       "      <th>A3UU690TWXCG1X</th>\n",
       "      <th>AI4J762YI6S06</th>\n",
       "    </tr>\n",
       "  </thead>\n",
       "  <tbody>\n",
       "    <tr>\n",
       "      <th>Movie1</th>\n",
       "      <td>5.0</td>\n",
       "      <td>0.0</td>\n",
       "      <td>0.0</td>\n",
       "      <td>0.0</td>\n",
       "      <td>0.0</td>\n",
       "      <td>0.0</td>\n",
       "      <td>0.0</td>\n",
       "      <td>0.0</td>\n",
       "      <td>0.0</td>\n",
       "      <td>0.0</td>\n",
       "      <td>...</td>\n",
       "      <td>0.0</td>\n",
       "      <td>0.0</td>\n",
       "      <td>0.0</td>\n",
       "      <td>0.0</td>\n",
       "      <td>0.0</td>\n",
       "      <td>0.0</td>\n",
       "      <td>0.0</td>\n",
       "      <td>0.0</td>\n",
       "      <td>0.0</td>\n",
       "      <td>0.0</td>\n",
       "    </tr>\n",
       "    <tr>\n",
       "      <th>Movie2</th>\n",
       "      <td>5.0</td>\n",
       "      <td>0.0</td>\n",
       "      <td>0.0</td>\n",
       "      <td>0.0</td>\n",
       "      <td>0.0</td>\n",
       "      <td>0.0</td>\n",
       "      <td>0.0</td>\n",
       "      <td>0.0</td>\n",
       "      <td>0.0</td>\n",
       "      <td>0.0</td>\n",
       "      <td>...</td>\n",
       "      <td>0.0</td>\n",
       "      <td>0.0</td>\n",
       "      <td>0.0</td>\n",
       "      <td>0.0</td>\n",
       "      <td>0.0</td>\n",
       "      <td>0.0</td>\n",
       "      <td>0.0</td>\n",
       "      <td>0.0</td>\n",
       "      <td>0.0</td>\n",
       "      <td>0.0</td>\n",
       "    </tr>\n",
       "    <tr>\n",
       "      <th>Movie3</th>\n",
       "      <td>0.0</td>\n",
       "      <td>2.0</td>\n",
       "      <td>0.0</td>\n",
       "      <td>0.0</td>\n",
       "      <td>0.0</td>\n",
       "      <td>0.0</td>\n",
       "      <td>0.0</td>\n",
       "      <td>0.0</td>\n",
       "      <td>0.0</td>\n",
       "      <td>0.0</td>\n",
       "      <td>...</td>\n",
       "      <td>0.0</td>\n",
       "      <td>0.0</td>\n",
       "      <td>0.0</td>\n",
       "      <td>0.0</td>\n",
       "      <td>0.0</td>\n",
       "      <td>0.0</td>\n",
       "      <td>0.0</td>\n",
       "      <td>0.0</td>\n",
       "      <td>0.0</td>\n",
       "      <td>0.0</td>\n",
       "    </tr>\n",
       "    <tr>\n",
       "      <th>Movie4</th>\n",
       "      <td>0.0</td>\n",
       "      <td>0.0</td>\n",
       "      <td>5.0</td>\n",
       "      <td>5.0</td>\n",
       "      <td>0.0</td>\n",
       "      <td>0.0</td>\n",
       "      <td>0.0</td>\n",
       "      <td>0.0</td>\n",
       "      <td>0.0</td>\n",
       "      <td>0.0</td>\n",
       "      <td>...</td>\n",
       "      <td>0.0</td>\n",
       "      <td>0.0</td>\n",
       "      <td>0.0</td>\n",
       "      <td>0.0</td>\n",
       "      <td>0.0</td>\n",
       "      <td>0.0</td>\n",
       "      <td>0.0</td>\n",
       "      <td>0.0</td>\n",
       "      <td>0.0</td>\n",
       "      <td>0.0</td>\n",
       "    </tr>\n",
       "    <tr>\n",
       "      <th>Movie5</th>\n",
       "      <td>0.0</td>\n",
       "      <td>0.0</td>\n",
       "      <td>0.0</td>\n",
       "      <td>0.0</td>\n",
       "      <td>5.0</td>\n",
       "      <td>2.0</td>\n",
       "      <td>5.0</td>\n",
       "      <td>2.0</td>\n",
       "      <td>5.0</td>\n",
       "      <td>5.0</td>\n",
       "      <td>...</td>\n",
       "      <td>0.0</td>\n",
       "      <td>0.0</td>\n",
       "      <td>0.0</td>\n",
       "      <td>0.0</td>\n",
       "      <td>0.0</td>\n",
       "      <td>0.0</td>\n",
       "      <td>0.0</td>\n",
       "      <td>0.0</td>\n",
       "      <td>0.0</td>\n",
       "      <td>0.0</td>\n",
       "    </tr>\n",
       "  </tbody>\n",
       "</table>\n",
       "<p>5 rows × 4848 columns</p>\n",
       "</div>"
      ],
      "text/plain": [
       "user_id  A3R5OBKS7OM2IR  AH3QC2PC1VTGP  A3LKP6WPMP9UKX  AVIY68KEPQ5ZD  \\\n",
       "Movie1              5.0            0.0             0.0            0.0   \n",
       "Movie2              5.0            0.0             0.0            0.0   \n",
       "Movie3              0.0            2.0             0.0            0.0   \n",
       "Movie4              0.0            0.0             5.0            5.0   \n",
       "Movie5              0.0            0.0             0.0            0.0   \n",
       "\n",
       "user_id  A1CV1WROP5KTTW  AP57WZ2X4G0AA  A3NMBJ2LCRCATT  A5Y15SAOMX6XA  \\\n",
       "Movie1              0.0            0.0             0.0            0.0   \n",
       "Movie2              0.0            0.0             0.0            0.0   \n",
       "Movie3              0.0            0.0             0.0            0.0   \n",
       "Movie4              0.0            0.0             0.0            0.0   \n",
       "Movie5              5.0            2.0             5.0            2.0   \n",
       "\n",
       "user_id  A3P671HJ32TCSF  A3VCKTRD24BG7K  ...  A31KDG42LDKA68  A1ZW2GF8QLTG62  \\\n",
       "Movie1              0.0             0.0  ...             0.0             0.0   \n",
       "Movie2              0.0             0.0  ...             0.0             0.0   \n",
       "Movie3              0.0             0.0  ...             0.0             0.0   \n",
       "Movie4              0.0             0.0  ...             0.0             0.0   \n",
       "Movie5              5.0             5.0  ...             0.0             0.0   \n",
       "\n",
       "user_id  A15W9FRLBUXJNS  AQ4JA4RFC5QHI  A1HY5DOJCVB8MG  A1IMQ9WMFYKWH5  \\\n",
       "Movie1              0.0            0.0             0.0             0.0   \n",
       "Movie2              0.0            0.0             0.0             0.0   \n",
       "Movie3              0.0            0.0             0.0             0.0   \n",
       "Movie4              0.0            0.0             0.0             0.0   \n",
       "Movie5              0.0            0.0             0.0             0.0   \n",
       "\n",
       "user_id  A1KLIKPUF5E88I  A5HG6WFZLO10D  A3UU690TWXCG1X  AI4J762YI6S06  \n",
       "Movie1              0.0            0.0             0.0            0.0  \n",
       "Movie2              0.0            0.0             0.0            0.0  \n",
       "Movie3              0.0            0.0             0.0            0.0  \n",
       "Movie4              0.0            0.0             0.0            0.0  \n",
       "Movie5              0.0            0.0             0.0            0.0  \n",
       "\n",
       "[5 rows x 4848 columns]"
      ]
     },
     "execution_count": 19,
     "metadata": {},
     "output_type": "execute_result"
    }
   ],
   "source": [
    "\n",
    "data= data.set_index('user_id').T   #Remove the extra row, and put user_id as index\n",
    "data.head()"
   ]
  },
  {
   "cell_type": "code",
   "execution_count": 20,
   "metadata": {},
   "outputs": [
    {
     "data": {
      "text/plain": [
       "(206, 4848)"
      ]
     },
     "execution_count": 20,
     "metadata": {},
     "output_type": "execute_result"
    }
   ],
   "source": [
    "data.shape"
   ]
  },
  {
   "cell_type": "code",
   "execution_count": 21,
   "metadata": {},
   "outputs": [],
   "source": [
    "train = data.iloc[:161,:]  #Train set\n",
    "test= data.iloc[161:,:]    # Test set"
   ]
  },
  {
   "cell_type": "code",
   "execution_count": 22,
   "metadata": {},
   "outputs": [],
   "source": [
    "from sklearn.model_selection import train_test_split               #Train and Test setup \n",
    "trainset, testset = train_test_split(data, test_size= 0.25, random_state=42)"
   ]
  },
  {
   "cell_type": "code",
   "execution_count": 23,
   "metadata": {},
   "outputs": [
    {
     "data": {
      "text/plain": [
       "NearestNeighbors(metric='cosine')"
      ]
     },
     "execution_count": 23,
     "metadata": {},
     "output_type": "execute_result"
    }
   ],
   "source": [
    "from sklearn.neighbors import NearestNeighbors\n",
    "model_knn = NearestNeighbors(metric='cosine')   #Model \n",
    "model_knn.fit(trainset)                         "
   ]
  },
  {
   "cell_type": "code",
   "execution_count": 33,
   "metadata": {},
   "outputs": [
    {
     "data": {
      "text/plain": [
       "(154, 4848)"
      ]
     },
     "execution_count": 33,
     "metadata": {},
     "output_type": "execute_result"
    }
   ],
   "source": [
    "trainset.shape"
   ]
  },
  {
   "cell_type": "code",
   "execution_count": 48,
   "metadata": {},
   "outputs": [
    {
     "data": {
      "text/html": [
       "<div>\n",
       "<style scoped>\n",
       "    .dataframe tbody tr th:only-of-type {\n",
       "        vertical-align: middle;\n",
       "    }\n",
       "\n",
       "    .dataframe tbody tr th {\n",
       "        vertical-align: top;\n",
       "    }\n",
       "\n",
       "    .dataframe thead th {\n",
       "        text-align: right;\n",
       "    }\n",
       "</style>\n",
       "<table border=\"1\" class=\"dataframe\">\n",
       "  <thead>\n",
       "    <tr style=\"text-align: right;\">\n",
       "      <th>user_id</th>\n",
       "      <th>A3R5OBKS7OM2IR</th>\n",
       "      <th>AH3QC2PC1VTGP</th>\n",
       "      <th>A3LKP6WPMP9UKX</th>\n",
       "      <th>AVIY68KEPQ5ZD</th>\n",
       "      <th>A1CV1WROP5KTTW</th>\n",
       "      <th>AP57WZ2X4G0AA</th>\n",
       "      <th>A3NMBJ2LCRCATT</th>\n",
       "      <th>A5Y15SAOMX6XA</th>\n",
       "      <th>A3P671HJ32TCSF</th>\n",
       "      <th>A3VCKTRD24BG7K</th>\n",
       "      <th>...</th>\n",
       "      <th>A31KDG42LDKA68</th>\n",
       "      <th>A1ZW2GF8QLTG62</th>\n",
       "      <th>A15W9FRLBUXJNS</th>\n",
       "      <th>AQ4JA4RFC5QHI</th>\n",
       "      <th>A1HY5DOJCVB8MG</th>\n",
       "      <th>A1IMQ9WMFYKWH5</th>\n",
       "      <th>A1KLIKPUF5E88I</th>\n",
       "      <th>A5HG6WFZLO10D</th>\n",
       "      <th>A3UU690TWXCG1X</th>\n",
       "      <th>AI4J762YI6S06</th>\n",
       "    </tr>\n",
       "  </thead>\n",
       "  <tbody>\n",
       "    <tr>\n",
       "      <th>Movie204</th>\n",
       "      <td>0.0</td>\n",
       "      <td>0.0</td>\n",
       "      <td>0.0</td>\n",
       "      <td>0.0</td>\n",
       "      <td>0.0</td>\n",
       "      <td>0.0</td>\n",
       "      <td>0.0</td>\n",
       "      <td>0.0</td>\n",
       "      <td>0.0</td>\n",
       "      <td>0.0</td>\n",
       "      <td>...</td>\n",
       "      <td>0.0</td>\n",
       "      <td>0.0</td>\n",
       "      <td>0.0</td>\n",
       "      <td>0.0</td>\n",
       "      <td>0.0</td>\n",
       "      <td>0.0</td>\n",
       "      <td>0.0</td>\n",
       "      <td>0.0</td>\n",
       "      <td>0.0</td>\n",
       "      <td>0.0</td>\n",
       "    </tr>\n",
       "    <tr>\n",
       "      <th>Movie171</th>\n",
       "      <td>0.0</td>\n",
       "      <td>0.0</td>\n",
       "      <td>0.0</td>\n",
       "      <td>0.0</td>\n",
       "      <td>0.0</td>\n",
       "      <td>0.0</td>\n",
       "      <td>0.0</td>\n",
       "      <td>0.0</td>\n",
       "      <td>0.0</td>\n",
       "      <td>0.0</td>\n",
       "      <td>...</td>\n",
       "      <td>0.0</td>\n",
       "      <td>0.0</td>\n",
       "      <td>0.0</td>\n",
       "      <td>0.0</td>\n",
       "      <td>0.0</td>\n",
       "      <td>0.0</td>\n",
       "      <td>0.0</td>\n",
       "      <td>0.0</td>\n",
       "      <td>0.0</td>\n",
       "      <td>0.0</td>\n",
       "    </tr>\n",
       "    <tr>\n",
       "      <th>Movie96</th>\n",
       "      <td>0.0</td>\n",
       "      <td>0.0</td>\n",
       "      <td>0.0</td>\n",
       "      <td>0.0</td>\n",
       "      <td>0.0</td>\n",
       "      <td>0.0</td>\n",
       "      <td>0.0</td>\n",
       "      <td>0.0</td>\n",
       "      <td>0.0</td>\n",
       "      <td>0.0</td>\n",
       "      <td>...</td>\n",
       "      <td>0.0</td>\n",
       "      <td>0.0</td>\n",
       "      <td>0.0</td>\n",
       "      <td>0.0</td>\n",
       "      <td>0.0</td>\n",
       "      <td>0.0</td>\n",
       "      <td>0.0</td>\n",
       "      <td>0.0</td>\n",
       "      <td>0.0</td>\n",
       "      <td>0.0</td>\n",
       "    </tr>\n",
       "    <tr>\n",
       "      <th>Movie6</th>\n",
       "      <td>0.0</td>\n",
       "      <td>0.0</td>\n",
       "      <td>0.0</td>\n",
       "      <td>0.0</td>\n",
       "      <td>0.0</td>\n",
       "      <td>0.0</td>\n",
       "      <td>0.0</td>\n",
       "      <td>0.0</td>\n",
       "      <td>0.0</td>\n",
       "      <td>0.0</td>\n",
       "      <td>...</td>\n",
       "      <td>0.0</td>\n",
       "      <td>0.0</td>\n",
       "      <td>0.0</td>\n",
       "      <td>0.0</td>\n",
       "      <td>0.0</td>\n",
       "      <td>0.0</td>\n",
       "      <td>0.0</td>\n",
       "      <td>0.0</td>\n",
       "      <td>0.0</td>\n",
       "      <td>0.0</td>\n",
       "    </tr>\n",
       "    <tr>\n",
       "      <th>Movie147</th>\n",
       "      <td>0.0</td>\n",
       "      <td>0.0</td>\n",
       "      <td>0.0</td>\n",
       "      <td>0.0</td>\n",
       "      <td>0.0</td>\n",
       "      <td>0.0</td>\n",
       "      <td>0.0</td>\n",
       "      <td>0.0</td>\n",
       "      <td>0.0</td>\n",
       "      <td>0.0</td>\n",
       "      <td>...</td>\n",
       "      <td>0.0</td>\n",
       "      <td>0.0</td>\n",
       "      <td>0.0</td>\n",
       "      <td>0.0</td>\n",
       "      <td>0.0</td>\n",
       "      <td>0.0</td>\n",
       "      <td>0.0</td>\n",
       "      <td>0.0</td>\n",
       "      <td>0.0</td>\n",
       "      <td>0.0</td>\n",
       "    </tr>\n",
       "  </tbody>\n",
       "</table>\n",
       "<p>5 rows × 4848 columns</p>\n",
       "</div>"
      ],
      "text/plain": [
       "user_id   A3R5OBKS7OM2IR  AH3QC2PC1VTGP  A3LKP6WPMP9UKX  AVIY68KEPQ5ZD  \\\n",
       "Movie204             0.0            0.0             0.0            0.0   \n",
       "Movie171             0.0            0.0             0.0            0.0   \n",
       "Movie96              0.0            0.0             0.0            0.0   \n",
       "Movie6               0.0            0.0             0.0            0.0   \n",
       "Movie147             0.0            0.0             0.0            0.0   \n",
       "\n",
       "user_id   A1CV1WROP5KTTW  AP57WZ2X4G0AA  A3NMBJ2LCRCATT  A5Y15SAOMX6XA  \\\n",
       "Movie204             0.0            0.0             0.0            0.0   \n",
       "Movie171             0.0            0.0             0.0            0.0   \n",
       "Movie96              0.0            0.0             0.0            0.0   \n",
       "Movie6               0.0            0.0             0.0            0.0   \n",
       "Movie147             0.0            0.0             0.0            0.0   \n",
       "\n",
       "user_id   A3P671HJ32TCSF  A3VCKTRD24BG7K  ...  A31KDG42LDKA68  A1ZW2GF8QLTG62  \\\n",
       "Movie204             0.0             0.0  ...             0.0             0.0   \n",
       "Movie171             0.0             0.0  ...             0.0             0.0   \n",
       "Movie96              0.0             0.0  ...             0.0             0.0   \n",
       "Movie6               0.0             0.0  ...             0.0             0.0   \n",
       "Movie147             0.0             0.0  ...             0.0             0.0   \n",
       "\n",
       "user_id   A15W9FRLBUXJNS  AQ4JA4RFC5QHI  A1HY5DOJCVB8MG  A1IMQ9WMFYKWH5  \\\n",
       "Movie204             0.0            0.0             0.0             0.0   \n",
       "Movie171             0.0            0.0             0.0             0.0   \n",
       "Movie96              0.0            0.0             0.0             0.0   \n",
       "Movie6               0.0            0.0             0.0             0.0   \n",
       "Movie147             0.0            0.0             0.0             0.0   \n",
       "\n",
       "user_id   A1KLIKPUF5E88I  A5HG6WFZLO10D  A3UU690TWXCG1X  AI4J762YI6S06  \n",
       "Movie204             0.0            0.0             0.0            0.0  \n",
       "Movie171             0.0            0.0             0.0            0.0  \n",
       "Movie96              0.0            0.0             0.0            0.0  \n",
       "Movie6               0.0            0.0             0.0            0.0  \n",
       "Movie147             0.0            0.0             0.0            0.0  \n",
       "\n",
       "[5 rows x 4848 columns]"
      ]
     },
     "execution_count": 48,
     "metadata": {},
     "output_type": "execute_result"
    }
   ],
   "source": [
    "trainset.head()"
   ]
  },
  {
   "cell_type": "code",
   "execution_count": 25,
   "metadata": {},
   "outputs": [
    {
     "data": {
      "text/html": [
       "<div>\n",
       "<style scoped>\n",
       "    .dataframe tbody tr th:only-of-type {\n",
       "        vertical-align: middle;\n",
       "    }\n",
       "\n",
       "    .dataframe tbody tr th {\n",
       "        vertical-align: top;\n",
       "    }\n",
       "\n",
       "    .dataframe thead th {\n",
       "        text-align: right;\n",
       "    }\n",
       "</style>\n",
       "<table border=\"1\" class=\"dataframe\">\n",
       "  <thead>\n",
       "    <tr style=\"text-align: right;\">\n",
       "      <th>user_id</th>\n",
       "      <th>A3R5OBKS7OM2IR</th>\n",
       "      <th>AH3QC2PC1VTGP</th>\n",
       "      <th>A3LKP6WPMP9UKX</th>\n",
       "      <th>AVIY68KEPQ5ZD</th>\n",
       "      <th>A1CV1WROP5KTTW</th>\n",
       "      <th>AP57WZ2X4G0AA</th>\n",
       "      <th>A3NMBJ2LCRCATT</th>\n",
       "      <th>A5Y15SAOMX6XA</th>\n",
       "      <th>A3P671HJ32TCSF</th>\n",
       "      <th>A3VCKTRD24BG7K</th>\n",
       "      <th>...</th>\n",
       "      <th>A31KDG42LDKA68</th>\n",
       "      <th>A1ZW2GF8QLTG62</th>\n",
       "      <th>A15W9FRLBUXJNS</th>\n",
       "      <th>AQ4JA4RFC5QHI</th>\n",
       "      <th>A1HY5DOJCVB8MG</th>\n",
       "      <th>A1IMQ9WMFYKWH5</th>\n",
       "      <th>A1KLIKPUF5E88I</th>\n",
       "      <th>A5HG6WFZLO10D</th>\n",
       "      <th>A3UU690TWXCG1X</th>\n",
       "      <th>AI4J762YI6S06</th>\n",
       "    </tr>\n",
       "  </thead>\n",
       "  <tbody>\n",
       "    <tr>\n",
       "      <th>Movie16</th>\n",
       "      <td>0.0</td>\n",
       "      <td>0.0</td>\n",
       "      <td>0.0</td>\n",
       "      <td>0.0</td>\n",
       "      <td>0.0</td>\n",
       "      <td>0.0</td>\n",
       "      <td>0.0</td>\n",
       "      <td>0.0</td>\n",
       "      <td>0.0</td>\n",
       "      <td>0.0</td>\n",
       "      <td>...</td>\n",
       "      <td>0.0</td>\n",
       "      <td>0.0</td>\n",
       "      <td>0.0</td>\n",
       "      <td>0.0</td>\n",
       "      <td>0.0</td>\n",
       "      <td>0.0</td>\n",
       "      <td>0.0</td>\n",
       "      <td>0.0</td>\n",
       "      <td>0.0</td>\n",
       "      <td>0.0</td>\n",
       "    </tr>\n",
       "    <tr>\n",
       "      <th>Movie10</th>\n",
       "      <td>0.0</td>\n",
       "      <td>0.0</td>\n",
       "      <td>0.0</td>\n",
       "      <td>0.0</td>\n",
       "      <td>0.0</td>\n",
       "      <td>0.0</td>\n",
       "      <td>0.0</td>\n",
       "      <td>0.0</td>\n",
       "      <td>0.0</td>\n",
       "      <td>0.0</td>\n",
       "      <td>...</td>\n",
       "      <td>0.0</td>\n",
       "      <td>0.0</td>\n",
       "      <td>0.0</td>\n",
       "      <td>0.0</td>\n",
       "      <td>0.0</td>\n",
       "      <td>0.0</td>\n",
       "      <td>0.0</td>\n",
       "      <td>0.0</td>\n",
       "      <td>0.0</td>\n",
       "      <td>0.0</td>\n",
       "    </tr>\n",
       "    <tr>\n",
       "      <th>Movie202</th>\n",
       "      <td>0.0</td>\n",
       "      <td>0.0</td>\n",
       "      <td>0.0</td>\n",
       "      <td>0.0</td>\n",
       "      <td>0.0</td>\n",
       "      <td>0.0</td>\n",
       "      <td>0.0</td>\n",
       "      <td>0.0</td>\n",
       "      <td>0.0</td>\n",
       "      <td>0.0</td>\n",
       "      <td>...</td>\n",
       "      <td>0.0</td>\n",
       "      <td>0.0</td>\n",
       "      <td>0.0</td>\n",
       "      <td>0.0</td>\n",
       "      <td>0.0</td>\n",
       "      <td>0.0</td>\n",
       "      <td>0.0</td>\n",
       "      <td>0.0</td>\n",
       "      <td>0.0</td>\n",
       "      <td>0.0</td>\n",
       "    </tr>\n",
       "    <tr>\n",
       "      <th>Movie83</th>\n",
       "      <td>0.0</td>\n",
       "      <td>0.0</td>\n",
       "      <td>0.0</td>\n",
       "      <td>0.0</td>\n",
       "      <td>0.0</td>\n",
       "      <td>0.0</td>\n",
       "      <td>0.0</td>\n",
       "      <td>0.0</td>\n",
       "      <td>0.0</td>\n",
       "      <td>0.0</td>\n",
       "      <td>...</td>\n",
       "      <td>0.0</td>\n",
       "      <td>0.0</td>\n",
       "      <td>0.0</td>\n",
       "      <td>0.0</td>\n",
       "      <td>0.0</td>\n",
       "      <td>0.0</td>\n",
       "      <td>0.0</td>\n",
       "      <td>0.0</td>\n",
       "      <td>0.0</td>\n",
       "      <td>0.0</td>\n",
       "    </tr>\n",
       "    <tr>\n",
       "      <th>Movie69</th>\n",
       "      <td>0.0</td>\n",
       "      <td>0.0</td>\n",
       "      <td>0.0</td>\n",
       "      <td>0.0</td>\n",
       "      <td>0.0</td>\n",
       "      <td>0.0</td>\n",
       "      <td>0.0</td>\n",
       "      <td>0.0</td>\n",
       "      <td>0.0</td>\n",
       "      <td>0.0</td>\n",
       "      <td>...</td>\n",
       "      <td>0.0</td>\n",
       "      <td>0.0</td>\n",
       "      <td>0.0</td>\n",
       "      <td>0.0</td>\n",
       "      <td>0.0</td>\n",
       "      <td>0.0</td>\n",
       "      <td>0.0</td>\n",
       "      <td>0.0</td>\n",
       "      <td>0.0</td>\n",
       "      <td>0.0</td>\n",
       "    </tr>\n",
       "  </tbody>\n",
       "</table>\n",
       "<p>5 rows × 4848 columns</p>\n",
       "</div>"
      ],
      "text/plain": [
       "user_id   A3R5OBKS7OM2IR  AH3QC2PC1VTGP  A3LKP6WPMP9UKX  AVIY68KEPQ5ZD  \\\n",
       "Movie16              0.0            0.0             0.0            0.0   \n",
       "Movie10              0.0            0.0             0.0            0.0   \n",
       "Movie202             0.0            0.0             0.0            0.0   \n",
       "Movie83              0.0            0.0             0.0            0.0   \n",
       "Movie69              0.0            0.0             0.0            0.0   \n",
       "\n",
       "user_id   A1CV1WROP5KTTW  AP57WZ2X4G0AA  A3NMBJ2LCRCATT  A5Y15SAOMX6XA  \\\n",
       "Movie16              0.0            0.0             0.0            0.0   \n",
       "Movie10              0.0            0.0             0.0            0.0   \n",
       "Movie202             0.0            0.0             0.0            0.0   \n",
       "Movie83              0.0            0.0             0.0            0.0   \n",
       "Movie69              0.0            0.0             0.0            0.0   \n",
       "\n",
       "user_id   A3P671HJ32TCSF  A3VCKTRD24BG7K  ...  A31KDG42LDKA68  A1ZW2GF8QLTG62  \\\n",
       "Movie16              0.0             0.0  ...             0.0             0.0   \n",
       "Movie10              0.0             0.0  ...             0.0             0.0   \n",
       "Movie202             0.0             0.0  ...             0.0             0.0   \n",
       "Movie83              0.0             0.0  ...             0.0             0.0   \n",
       "Movie69              0.0             0.0  ...             0.0             0.0   \n",
       "\n",
       "user_id   A15W9FRLBUXJNS  AQ4JA4RFC5QHI  A1HY5DOJCVB8MG  A1IMQ9WMFYKWH5  \\\n",
       "Movie16              0.0            0.0             0.0             0.0   \n",
       "Movie10              0.0            0.0             0.0             0.0   \n",
       "Movie202             0.0            0.0             0.0             0.0   \n",
       "Movie83              0.0            0.0             0.0             0.0   \n",
       "Movie69              0.0            0.0             0.0             0.0   \n",
       "\n",
       "user_id   A1KLIKPUF5E88I  A5HG6WFZLO10D  A3UU690TWXCG1X  AI4J762YI6S06  \n",
       "Movie16              0.0            0.0             0.0            0.0  \n",
       "Movie10              0.0            0.0             0.0            0.0  \n",
       "Movie202             0.0            0.0             0.0            0.0  \n",
       "Movie83              0.0            0.0             0.0            0.0  \n",
       "Movie69              0.0            0.0             0.0            0.0  \n",
       "\n",
       "[5 rows x 4848 columns]"
      ]
     },
     "execution_count": 25,
     "metadata": {},
     "output_type": "execute_result"
    }
   ],
   "source": [
    "testset.head()"
   ]
  },
  {
   "cell_type": "code",
   "execution_count": 63,
   "metadata": {},
   "outputs": [
    {
     "data": {
      "text/plain": [
       "user_id\n",
       "A3R5OBKS7OM2IR    0.0\n",
       "AH3QC2PC1VTGP     0.0\n",
       "A3LKP6WPMP9UKX    0.0\n",
       "AVIY68KEPQ5ZD     0.0\n",
       "A1CV1WROP5KTTW    0.0\n",
       "                 ... \n",
       "A1IMQ9WMFYKWH5    0.0\n",
       "A1KLIKPUF5E88I    0.0\n",
       "A5HG6WFZLO10D     0.0\n",
       "A3UU690TWXCG1X    0.0\n",
       "AI4J762YI6S06     0.0\n",
       "Name: Movie16, Length: 4848, dtype: float64"
      ]
     },
     "execution_count": 63,
     "metadata": {},
     "output_type": "execute_result"
    }
   ],
   "source": [
    "testset.iloc[0]"
   ]
  },
  {
   "cell_type": "code",
   "execution_count": 68,
   "metadata": {},
   "outputs": [
    {
     "name": "stdout",
     "output_type": "stream",
     "text": [
      "Movie16\n",
      "[ 71  39  38 153 103]\n",
      "[0.98392349 0.99162303 0.99425373 0.99605272 1.        ]\n"
     ]
    },
    {
     "data": {
      "text/plain": [
       "{0.9839234911052305: 'Movie72',\n",
       " 0.9916230341794651: 'Movie40',\n",
       " 0.9942537328957611: 'Movie39',\n",
       " 0.9960527186149957: 'Movie154',\n",
       " 1.0: 'Movie104'}"
      ]
     },
     "metadata": {},
     "output_type": "display_data"
    }
   ],
   "source": [
    "distance, indecs = model_knn.kneighbors(testset.iloc[0,:].values.reshape(1,-1),n_neighbors = 5)\n",
    "print(testset.index[0])\n",
    "print(indecs.flatten())\n",
    "print(distance.flatten())\n",
    "\n",
    "display(dict(zip(distance.flatten(), data.index[indecs.flatten()])))"
   ]
  },
  {
   "cell_type": "code",
   "execution_count": 26,
   "metadata": {},
   "outputs": [],
   "source": [
    "d = {}\n",
    "for i in range(0,len(testset)):\n",
    "    distance, indecs = model_knn.kneighbors(testset.iloc[i,:].values.reshape(1,-1),n_neighbors = 5)\n",
    "    d[i]  = dict(zip(distance.flatten(), data.index[indecs.flatten()]))"
   ]
  },
  {
   "cell_type": "code",
   "execution_count": 27,
   "metadata": {},
   "outputs": [
    {
     "data": {
      "text/plain": [
       "{0: {0.9839234911052305: 'Movie72',\n",
       "  0.9916230341794651: 'Movie40',\n",
       "  0.9942537328957611: 'Movie39',\n",
       "  0.9960527186149957: 'Movie154',\n",
       "  1.0: 'Movie104'},\n",
       " 1: {1.0: 'Movie102'},\n",
       " 2: {0.989355098216149: 'Movie27', 1.0: 'Movie103'},\n",
       " 3: {1.0: 'Movie102'},\n",
       " 4: {1.0: 'Movie102'},\n",
       " 5: {1.0: 'Movie102'},\n",
       " 6: {1.0: 'Movie102'},\n",
       " 7: {1.0: 'Movie102'},\n",
       " 8: {0.0: 'Movie5', 0.7850332098038262: 'Movie129', 1.0: 'Movie105'},\n",
       " 9: {0.8556624327025936: 'Movie137', 1.0: 'Movie106'},\n",
       " 10: {0.5376707990904319: 'Movie86',\n",
       "  0.6552748733366539: 'Movie106',\n",
       "  0.8034843809467468: 'Movie40',\n",
       "  0.9113675771226006: 'Movie102',\n",
       "  1.0: 'Movie105'},\n",
       " 11: {1.0: 'Movie102'},\n",
       " 12: {1.0: 'Movie102'},\n",
       " 13: {1.0: 'Movie102'},\n",
       " 14: {1.0: 'Movie102'},\n",
       " 15: {0.5317070942091531: 'Movie82', 1.0: 'Movie107'},\n",
       " 16: {0.9911246002339773: 'Movie27', 1.0: 'Movie103'},\n",
       " 17: {1.0: 'Movie102'},\n",
       " 18: {0.6765768863234245: 'Movie51',\n",
       "  0.8382884431617122: 'Movie31',\n",
       "  1.0: 'Movie107'},\n",
       " 19: {1.0: 'Movie102'},\n",
       " 20: {1.0: 'Movie102'},\n",
       " 21: {0.29289321881345254: 'Movie5',\n",
       "  0.8479955249223796: 'Movie129',\n",
       "  1.0: 'Movie105'},\n",
       " 22: {1.0: 'Movie102'},\n",
       " 23: {1.0: 'Movie102'},\n",
       " 24: {1.0: 'Movie102'},\n",
       " 25: {1.0: 'Movie102'},\n",
       " 26: {1.0: 'Movie102'},\n",
       " 27: {0.8620929700739601: 'Movie50',\n",
       "  0.8705878627299197: 'Movie95',\n",
       "  0.9239666553553173: 'Movie72',\n",
       "  1.0: 'Movie103'},\n",
       " 28: {1.0: 'Movie102'},\n",
       " 29: {0.8506297616839265: 'Movie29', 1.0: 'Movie103'},\n",
       " 30: {1.0: 'Movie102'},\n",
       " 31: {1.0: 'Movie102'},\n",
       " 32: {1.0: 'Movie102'},\n",
       " 33: {1.0: 'Movie102'},\n",
       " 34: {1.0: 'Movie102'},\n",
       " 35: {1.0: 'Movie102'},\n",
       " 36: {1.0: 'Movie102'},\n",
       " 37: {1.0: 'Movie102'},\n",
       " 38: {1.0: 'Movie102'},\n",
       " 39: {1.0: 'Movie102'},\n",
       " 40: {1.0: 'Movie102'},\n",
       " 41: {1.0: 'Movie102'},\n",
       " 42: {1.0: 'Movie102'},\n",
       " 43: {1.0: 'Movie102'},\n",
       " 44: {0.1425070742874559: 'Movie25',\n",
       "  0.39366093740916763: 'Movie28',\n",
       "  1.0: 'Movie106'},\n",
       " 45: {0.7763932022500211: 'Movie49', 1.0: 'Movie103'},\n",
       " 46: {1.0: 'Movie102'},\n",
       " 47: {1.0: 'Movie102'},\n",
       " 48: {1.0: 'Movie102'},\n",
       " 49: {1.0: 'Movie102'},\n",
       " 50: {0.9808818038123059: 'Movie27', 1.0: 'Movie103'},\n",
       " 51: {1.0: 'Movie102'}}"
      ]
     },
     "metadata": {},
     "output_type": "display_data"
    }
   ],
   "source": [
    "display(d)"
   ]
  },
  {
   "cell_type": "code",
   "execution_count": 49,
   "metadata": {},
   "outputs": [
    {
     "data": {
      "text/plain": [
       "{0.9839234911052305: 'Movie72',\n",
       " 0.9916230341794651: 'Movie40',\n",
       " 0.9942537328957611: 'Movie39',\n",
       " 0.9960527186149957: 'Movie154',\n",
       " 1.0: 'Movie104'}"
      ]
     },
     "execution_count": 49,
     "metadata": {},
     "output_type": "execute_result"
    }
   ],
   "source": [
    "d[0]"
   ]
  },
  {
   "cell_type": "code",
   "execution_count": null,
   "metadata": {},
   "outputs": [],
   "source": []
  }
 ],
 "metadata": {
  "kernelspec": {
   "display_name": "Python 3",
   "language": "python",
   "name": "python3"
  },
  "language_info": {
   "codemirror_mode": {
    "name": "ipython",
    "version": 3
   },
   "file_extension": ".py",
   "mimetype": "text/x-python",
   "name": "python",
   "nbconvert_exporter": "python",
   "pygments_lexer": "ipython3",
   "version": "3.8.8"
  }
 },
 "nbformat": 4,
 "nbformat_minor": 1
}
